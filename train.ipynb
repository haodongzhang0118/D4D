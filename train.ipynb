{
 "cells": [
  {
   "cell_type": "code",
   "execution_count": null,
   "metadata": {
    "id": "jb65niu9PC0y"
   },
   "outputs": [],
   "source": [
    "import sys\n",
    "sys.path.append('/content/drive/MyDrive/D4D')"
   ]
  },
  {
   "cell_type": "code",
   "execution_count": null,
   "metadata": {
    "colab": {
     "base_uri": "https://localhost:8080/"
    },
    "id": "z5_Vnc5zmeYj",
    "outputId": "237844b1-e065-4f59-e6f7-4782586ba998"
   },
   "outputs": [],
   "source": [
    "!pip install warmup_scheduler\n",
    "!pip install wandb"
   ]
  },
  {
   "cell_type": "code",
   "execution_count": null,
   "metadata": {
    "id": "yoY1bUTpORjC"
   },
   "outputs": [],
   "source": [
    "from trainer import Trainer, ConfigParser\n",
    "from model import NoiseEstimationClip, NoiseEstimationCLIP_pretrained\n",
    "from dataset import NoiseEstimationDataset, NoiseEstimationValidationDataset, create_dataloaders\n",
    "from types import SimpleNamespace"
   ]
  },
  {
   "cell_type": "code",
   "execution_count": null,
   "metadata": {
    "id": "XmPESPgbpbB0"
   },
   "outputs": [],
   "source": [
    "def flatten_namespace(nested_namespace):\n",
    "    flat_namespace = SimpleNamespace()\n",
    "    def add_attributes(ns):\n",
    "        for key, value in vars(ns).items():\n",
    "            if isinstance(value, SimpleNamespace):\n",
    "                add_attributes(value)\n",
    "            else:\n",
    "                setattr(flat_namespace, key, value)\n",
    "\n",
    "    add_attributes(nested_namespace)\n",
    "    return flat_namespace"
   ]
  },
  {
   "cell_type": "code",
   "execution_count": null,
   "metadata": {
    "id": "d39ywOEYP8vX"
   },
   "outputs": [],
   "source": [
    "config = ConfigParser.parse_yaml('/content/drive/MyDrive/D4D/config.yaml')\n",
    "config = flatten_namespace(config)"
   ]
  },
  {
   "cell_type": "code",
   "execution_count": null,
   "metadata": {
    "colab": {
     "base_uri": "https://localhost:8080/"
    },
    "id": "yjXQlQSCmLCu",
    "outputId": "dc704e77-64bb-4648-ec2e-af65e3c36cc7"
   },
   "outputs": [],
   "source": [
    "dataset = NoiseEstimationDataset(image_dir=config.valid_dir,\n",
    "                                  clean_image=config.image_dir,\n",
    "                                  img_size=config.image_size,\n",
    "                                  specific_timesteps=config.specific_timesteps,\n",
    "                                  saved_all_data_first=True,\n",
    "                                  num_cores=config.num_cores)"
   ]
  },
  {
   "cell_type": "code",
   "execution_count": null,
   "metadata": {
    "colab": {
     "base_uri": "https://localhost:8080/"
    },
    "id": "Eqfwhzs8mOVp",
    "outputId": "1b9b2a4e-b12a-4598-d1dc-c7754105cd3e"
   },
   "outputs": [],
   "source": [
    "valid_dataset = NoiseEstimationValidationDataset(image_dir=config.valid_dir,\n",
    "                                        clean_image=config.valid_image,\n",
    "                                        img_size=config.image_size,\n",
    "                                        specific_timesteps=config.specific_timesteps,\n",
    "                                        saved_all_data_first=True,\n",
    "                                        num_cores=config.num_cores)\n",
    "print(valid_dataset.specified_timesteps)"
   ]
  },
  {
   "cell_type": "code",
   "execution_count": null,
   "metadata": {
    "id": "_2icCmfRDjrG"
   },
   "outputs": [],
   "source": [
    "dataloader = create_dataloaders(dataset,\n",
    "                                batch_size=config.batch_size,\n",
    "                                num_workers=config.num_workers)"
   ]
  },
  {
   "cell_type": "code",
   "execution_count": null,
   "metadata": {
    "id": "KrlqYm2CmR3D"
   },
   "outputs": [],
   "source": [
    "valid_dataloader = create_dataloaders(valid_dataset,\n",
    "                                      batch_size=config.batch_size,\n",
    "                                      num_workers=config.num_workers)"
   ]
  },
  {
   "cell_type": "code",
   "execution_count": null,
   "metadata": {
    "colab": {
     "base_uri": "https://localhost:8080/"
    },
    "id": "2bYXiuVqgnCG",
    "outputId": "f4de0e4e-7450-4c06-d0e6-8e70881cefb5"
   },
   "outputs": [],
   "source": [
    "if config.text_image:\n",
    "  print('Using text image model')\n",
    "  model = NoiseEstimationCLIP_pretrained(model_name=config.clip_pretrained_model_name)\n",
    "else:\n",
    "  model = NoiseEstimationClip(d_model=config.d_model,\n",
    "                              in_channels=config.in_channels,\n",
    "                              image_size=config.image_size,\n",
    "                              patch_size=config.patch_size,\n",
    "                              num_heads=config.num_heads,\n",
    "                              num_layers=config.num_layers,\n",
    "                              final_embedding=config.final_embedding_dim)"
   ]
  },
  {
   "cell_type": "code",
   "execution_count": null,
   "metadata": {
    "colab": {
     "base_uri": "https://localhost:8080/"
    },
    "id": "AWl3v5ySQKAL",
    "outputId": "83c798b3-79f3-4b6b-cccf-8384cc516dae"
   },
   "outputs": [],
   "source": [
    "trainer = Trainer(model, dataloader, valid_dataloader, config)"
   ]
  },
  {
   "cell_type": "code",
   "execution_count": null,
   "metadata": {
    "id": "aX6WXFypBQwN"
   },
   "outputs": [],
   "source": [
    "trainer.train()"
   ]
  }
 ],
 "metadata": {
  "accelerator": "GPU",
  "colab": {
   "gpuType": "A100",
   "machine_shape": "hm",
   "provenance": []
  },
  "kernelspec": {
   "display_name": "Python 3",
   "name": "python3"
  },
  "language_info": {
   "name": "python"
  }
 },
 "nbformat": 4,
 "nbformat_minor": 0
}
